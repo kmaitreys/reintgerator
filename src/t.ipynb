{
 "cells": [
  {
   "cell_type": "code",
   "execution_count": null,
   "metadata": {},
   "outputs": [],
   "source": [
    "import numpy as np\n",
    "\n",
    "def conjugate_gradient(a, b, max_iter=10000, tol=1e-9):\n",
    "    x = np.zeros(len(b))\n",
    "    r = b - (a @ x)\n",
    "    d = r\n",
    "    iterations = 0\n",
    "    \n",
    "    while iterations <= max_iter:\n",
    "        r_old = np.inner(r, r)\n",
    "        alpha = r_old / np.inner(d, (a @ d))\n",
    "        x += d*alpha\n",
    "        r -= (a @ d)*alpha\n",
    "        \n",
    "        if r_old < tol:\n",
    "            return x, iterations + 1\n",
    "        \n",
    "        beta = np.inner(r, r) / r_old\n",
    "        d = r + beta * d\n",
    "        iterations += 1\n",
    "    \n",
    "    return x, iterations + 1\n",
    "\n"
   ]
  }
 ],
 "metadata": {
  "kernelspec": {
   "display_name": "pegasis",
   "language": "python",
   "name": "python3"
  },
  "language_info": {
   "name": "python",
   "version": "3.11.8"
  }
 },
 "nbformat": 4,
 "nbformat_minor": 2
}
